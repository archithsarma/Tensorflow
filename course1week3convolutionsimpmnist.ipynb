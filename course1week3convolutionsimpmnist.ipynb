import tensorflow as tf
from os import path, getcwd, chdir

path = f"{getcwd()}/../tmp2/mnist.npz"

config = tf.ConfigProto()
config.gpu_options.allow_growth = True
sess = tf.Session(config=config)
def train_mnist_conv():
    

    
    class myCallback(tf.keras.callbacks.Callback):
        def on_epoch_end(self, epoch, logs={}):
            if(logs.get('acc')>0.998):
              print("\nReached 99.8% accuracy so cancelling training!")
              self.model.stop_training = True
    

    mnist = tf.keras.datasets.mnist
    (training_images, training_labels), (test_images, test_labels) = mnist.load_data(path=path)
    training_images=training_images.reshape(60000, 28, 28, 1)
    training_images=training_images / 255.0
    test_images = test_images.reshape(10000, 28, 28, 1)
    test_images=test_images/255.0
    callbacks = myCallback()
    

    model = tf.keras.models.Sequential([tf.keras.layers.Conv2D(64, (3,3), activation='relu', input_shape=(28, 28, 1)),
    tf.keras.layers.MaxPooling2D(2, 2),tf.keras.layers.Flatten(),tf.keras.layers.Dense(128, activation='relu'),
    tf.keras.layers.Dense(10, activation='softmax')])

    model.compile(optimizer='adam', loss='sparse_categorical_crossentropy', metrics=['acc'])
   
    history = model.fit(training_images, training_labels, epochs=20,callbacks=[callbacks])
          
    return history.epoch , history.history['acc'][-1]

_, _ = train_mnist_conv()



OUTPUT---------------------


Epoch 1/20
60000/60000 [==============================] - 21s 355us/sample - loss: 0.1320 - acc: 0.9599
Epoch 2/20
60000/60000 [==============================] - 18s 295us/sample - loss: 0.0461 - acc: 0.9859 - loss: 0.0465 - a - ETA: 8s - loss: 0.0469 - ETA: 6s - loss: 0.0 - ETA: 1s - loss: 0.0454 
Epoch 3/20
60000/60000 [==============================] - 16s 275us/sample - loss: 0.0282 - acc: 0.9910
Epoch 4/20
60000/60000 [==============================] - 16s 275us/sample - loss: 0.0174 - acc: 0.9944
Epoch 5/20
60000/60000 [==============================] - 17s 284us/sample - loss: 0.0119 - acc: 0.9958
Epoch 6/20
60000/60000 [==============================] - 18s 293us/sample - loss: 0.0088 - acc: 0.9968
Epoch 7/20
60000/60000 [==============================] - 19s 312us/sample - loss: 0.0077 - acc: 0.9972
Epoch 8/20
59712/60000 [============================>.] - ETA: 0s - loss: 0.0051 - acc: 0.9984
Reached 99.8% accuracy so cancelling training!
60000/60000 [==============================] - 19s 315us/sample - loss: 0.0051 - acc: 0.9984
